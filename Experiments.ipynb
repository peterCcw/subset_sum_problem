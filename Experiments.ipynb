{
 "cells": [
  {
   "cell_type": "markdown",
   "id": "62c75989",
   "metadata": {},
   "source": [
    "# Experiments\n",
    "Presentation of complexities of Brute Force and Dynamic Programming algorithms for different input size and different sets"
   ]
  },
  {
   "cell_type": "code",
   "execution_count": 1,
   "id": "26e3289e",
   "metadata": {},
   "outputs": [],
   "source": [
    "# pandas and numpy used for help with displaying and manipulating data\n",
    "\n",
    "import pandas as pd\n",
    "import numpy as np"
   ]
  },
  {
   "cell_type": "code",
   "execution_count": 2,
   "id": "13a89eb8",
   "metadata": {},
   "outputs": [
    {
     "data": {
      "text/html": [
       "<div>\n",
       "<style scoped>\n",
       "    .dataframe tbody tr th:only-of-type {\n",
       "        vertical-align: middle;\n",
       "    }\n",
       "\n",
       "    .dataframe tbody tr th {\n",
       "        vertical-align: top;\n",
       "    }\n",
       "\n",
       "    .dataframe thead th {\n",
       "        text-align: right;\n",
       "    }\n",
       "</style>\n",
       "<table border=\"1\" class=\"dataframe\">\n",
       "  <thead>\n",
       "    <tr style=\"text-align: right;\">\n",
       "      <th></th>\n",
       "      <th>0</th>\n",
       "      <th>1</th>\n",
       "      <th>2</th>\n",
       "      <th>3</th>\n",
       "      <th>4</th>\n",
       "    </tr>\n",
       "  </thead>\n",
       "  <tbody>\n",
       "    <tr>\n",
       "      <th>0</th>\n",
       "      <td>([3, 5, 1, 6, 7], 15)</td>\n",
       "      <td>([4, 2, 0, 0, 2], 15)</td>\n",
       "      <td>([5, 4, 6, 1, 2], 15)</td>\n",
       "      <td>([6, 0, 0, 1, 3], 15)</td>\n",
       "      <td>([7, 7, 5, 5, 3], 15)</td>\n",
       "    </tr>\n",
       "    <tr>\n",
       "      <th>1</th>\n",
       "      <td>([22, 18, 8, 20, 2, 14, 7, 5, 5, 15], 50)</td>\n",
       "      <td>([8, 7, 7, 19, 9, 23, 14, 0, 12, 1], 50)</td>\n",
       "      <td>([5, 6, 7, 22, 12, 3, 15, 2, 17, 6], 50)</td>\n",
       "      <td>([4, 24, 5, 16, 19, 21, 13, 7, 24, 19], 50)</td>\n",
       "      <td>([2, 18, 16, 8, 8, 12, 23, 20, 17, 4], 50)</td>\n",
       "    </tr>\n",
       "    <tr>\n",
       "      <th>2</th>\n",
       "      <td>([44, 18, 20, 24, 41, 2, 19, 32, 34, 9, 20, 15...</td>\n",
       "      <td>([11, 33, 24, 30, 17, 12, 40, 28, 35, 31, 2, 1...</td>\n",
       "      <td>([44, 41, 21, 34, 49, 11, 29, 8, 16, 36, 44, 2...</td>\n",
       "      <td>([1, 21, 34, 47, 28, 32, 19, 2, 22, 22, 46, 31...</td>\n",
       "      <td>([8, 34, 27, 32, 3, 47, 14, 18, 47, 48, 48, 39...</td>\n",
       "    </tr>\n",
       "    <tr>\n",
       "      <th>3</th>\n",
       "      <td>([73, 29, 58, 31, 74, 52, 35, 8, 75, 40, 4, 52...</td>\n",
       "      <td>([6, 61, 47, 70, 46, 49, 56, 27, 28, 56, 21, 4...</td>\n",
       "      <td>([7, 46, 55, 15, 49, 21, 63, 39, 1, 37, 46, 47...</td>\n",
       "      <td>([10, 13, 29, 75, 38, 72, 54, 8, 39, 24, 48, 2...</td>\n",
       "      <td>([4, 73, 78, 57, 32, 15, 51, 78, 63, 27, 17, 7...</td>\n",
       "    </tr>\n",
       "    <tr>\n",
       "      <th>4</th>\n",
       "      <td>([26, 55, 21, 82, 72, 15, 63, 48, 42, 27, 103,...</td>\n",
       "      <td>([32, 101, 87, 12, 80, 39, 89, 79, 19, 20, 44,...</td>\n",
       "      <td>([97, 118, 108, 23, 19, 96, 88, 47, 56, 105, 2...</td>\n",
       "      <td>([11, 33, 54, 46, 27, 86, 39, 87, 98, 118, 94,...</td>\n",
       "      <td>([10, 87, 115, 68, 73, 67, 77, 15, 64, 23, 112...</td>\n",
       "    </tr>\n",
       "  </tbody>\n",
       "</table>\n",
       "</div>"
      ],
      "text/plain": [
       "                                                   0  \\\n",
       "0                              ([3, 5, 1, 6, 7], 15)   \n",
       "1          ([22, 18, 8, 20, 2, 14, 7, 5, 5, 15], 50)   \n",
       "2  ([44, 18, 20, 24, 41, 2, 19, 32, 34, 9, 20, 15...   \n",
       "3  ([73, 29, 58, 31, 74, 52, 35, 8, 75, 40, 4, 52...   \n",
       "4  ([26, 55, 21, 82, 72, 15, 63, 48, 42, 27, 103,...   \n",
       "\n",
       "                                                   1  \\\n",
       "0                              ([4, 2, 0, 0, 2], 15)   \n",
       "1           ([8, 7, 7, 19, 9, 23, 14, 0, 12, 1], 50)   \n",
       "2  ([11, 33, 24, 30, 17, 12, 40, 28, 35, 31, 2, 1...   \n",
       "3  ([6, 61, 47, 70, 46, 49, 56, 27, 28, 56, 21, 4...   \n",
       "4  ([32, 101, 87, 12, 80, 39, 89, 79, 19, 20, 44,...   \n",
       "\n",
       "                                                   2  \\\n",
       "0                              ([5, 4, 6, 1, 2], 15)   \n",
       "1           ([5, 6, 7, 22, 12, 3, 15, 2, 17, 6], 50)   \n",
       "2  ([44, 41, 21, 34, 49, 11, 29, 8, 16, 36, 44, 2...   \n",
       "3  ([7, 46, 55, 15, 49, 21, 63, 39, 1, 37, 46, 47...   \n",
       "4  ([97, 118, 108, 23, 19, 96, 88, 47, 56, 105, 2...   \n",
       "\n",
       "                                                   3  \\\n",
       "0                              ([6, 0, 0, 1, 3], 15)   \n",
       "1        ([4, 24, 5, 16, 19, 21, 13, 7, 24, 19], 50)   \n",
       "2  ([1, 21, 34, 47, 28, 32, 19, 2, 22, 22, 46, 31...   \n",
       "3  ([10, 13, 29, 75, 38, 72, 54, 8, 39, 24, 48, 2...   \n",
       "4  ([11, 33, 54, 46, 27, 86, 39, 87, 98, 118, 94,...   \n",
       "\n",
       "                                                   4  \n",
       "0                              ([7, 7, 5, 5, 3], 15)  \n",
       "1         ([2, 18, 16, 8, 8, 12, 23, 20, 17, 4], 50)  \n",
       "2  ([8, 34, 27, 32, 3, 47, 14, 18, 47, 48, 48, 39...  \n",
       "3  ([4, 73, 78, 57, 32, 15, 51, 78, 63, 27, 17, 7...  \n",
       "4  ([10, 87, 115, 68, 73, 67, 77, 15, 64, 23, 112...  "
      ]
     },
     "execution_count": 2,
     "metadata": {},
     "output_type": "execute_result"
    }
   ],
   "source": [
    "# Preparing datasets\n",
    "\n",
    "from functions.dataset_generation import generate_set\n",
    "\n",
    "n_sizes = list(range(5, 51, 5))\n",
    "targets = [int(target ** 1.7) for target in n_sizes]\n",
    "\n",
    "data_generation_inputs = [(input[0], input[1]) for input in list(zip(n_sizes, targets))]\n",
    "\n",
    "datasets = []\n",
    "for data in data_generation_inputs:\n",
    "    sets = [generate_set(data[0], data[1]) for i in range(5)]\n",
    "    datasets.append(sets)\n",
    "\n",
    "# Prepared 5 different datasets for each length of set (n)\n",
    "\n",
    "datasets_df = pd.DataFrame(datasets)\n",
    "datasets_df.head()"
   ]
  },
  {
   "cell_type": "code",
   "execution_count": 3,
   "id": "96ca43c7",
   "metadata": {},
   "outputs": [
    {
     "data": {
      "text/html": [
       "<div>\n",
       "<style scoped>\n",
       "    .dataframe tbody tr th:only-of-type {\n",
       "        vertical-align: middle;\n",
       "    }\n",
       "\n",
       "    .dataframe tbody tr th {\n",
       "        vertical-align: top;\n",
       "    }\n",
       "\n",
       "    .dataframe thead th {\n",
       "        text-align: right;\n",
       "    }\n",
       "</style>\n",
       "<table border=\"1\" class=\"dataframe\">\n",
       "  <thead>\n",
       "    <tr style=\"text-align: right;\">\n",
       "      <th></th>\n",
       "      <th>0</th>\n",
       "      <th>1</th>\n",
       "      <th>2</th>\n",
       "      <th>3</th>\n",
       "      <th>4</th>\n",
       "    </tr>\n",
       "  </thead>\n",
       "  <tbody>\n",
       "    <tr>\n",
       "      <th>0</th>\n",
       "      <td>((7.61e-05, 0.003104, (True, 15, [3, 5, 7])), ...</td>\n",
       "      <td>((6.02e-05, 0.001568, (False, 8, [4, 2, 0, 0, ...</td>\n",
       "      <td>((3.98e-05, 0.000416, (True, 15, [5, 4, 6])), ...</td>\n",
       "      <td>((6.1e-05, 0.000808, (False, 10, [6, 0, 0, 1, ...</td>\n",
       "      <td>((4.3e-05, 0.000808, (True, 15, [7, 5, 3])), (...</td>\n",
       "    </tr>\n",
       "    <tr>\n",
       "      <th>1</th>\n",
       "      <td>((0.000869, 0.004339, (True, 50, [18, 7, 5, 5,...</td>\n",
       "      <td>((0.0007899, 0.00128, (True, 50, [23, 14, 0, 1...</td>\n",
       "      <td>((0.0011393, 0.001722, (True, 50, [7, 3, 15, 2...</td>\n",
       "      <td>((0.0005629, 0.00112, (True, 50, [7, 24, 19]))...</td>\n",
       "      <td>((0.0005382, 0.001248, (True, 50, [2, 16, 8, 2...</td>\n",
       "    </tr>\n",
       "    <tr>\n",
       "      <th>2</th>\n",
       "      <td>((0.0065701, 0.004632, (True, 99, [9, 15, 35, ...</td>\n",
       "      <td>((0.0042484, 0.001784, (True, 99, [24, 2, 11, ...</td>\n",
       "      <td>((0.0053253, 0.001752, (True, 99, [21, 8, 16, ...</td>\n",
       "      <td>((0.002175, 0.00172, (True, 99, [1, 32, 2, 22,...</td>\n",
       "      <td>((0.0022216, 0.001688, (True, 99, [8, 39, 8, 1...</td>\n",
       "    </tr>\n",
       "    <tr>\n",
       "      <th>3</th>\n",
       "      <td>((0.0103674, 0.005008, (True, 162, [8, 27, 66,...</td>\n",
       "      <td>((0.0235138, 0.002256, (True, 162, [56, 3, 15,...</td>\n",
       "      <td>((0.0200448, 0.002288, (True, 162, [21, 5, 41,...</td>\n",
       "      <td>((0.074748, 0.00248, (True, 162, [24, 13, 12, ...</td>\n",
       "      <td>((0.007106, 0.00216, (True, 162, [4, 78, 33, 6...</td>\n",
       "    </tr>\n",
       "    <tr>\n",
       "      <th>4</th>\n",
       "      <td>((0.0722637, 0.00564, (True, 237, [21, 17, 43,...</td>\n",
       "      <td>((0.1059049, 0.002664, (True, 237, [12, 26, 69...</td>\n",
       "      <td>((0.0163415, 0.002632, (True, 237, [19, 88, 47...</td>\n",
       "      <td>((0.0172135, 0.002568, (True, 237, [11, 53, 66...</td>\n",
       "      <td>((0.0365497, 0.002696, (True, 237, [23, 38, 72...</td>\n",
       "    </tr>\n",
       "  </tbody>\n",
       "</table>\n",
       "</div>"
      ],
      "text/plain": [
       "                                                   0  \\\n",
       "0  ((7.61e-05, 0.003104, (True, 15, [3, 5, 7])), ...   \n",
       "1  ((0.000869, 0.004339, (True, 50, [18, 7, 5, 5,...   \n",
       "2  ((0.0065701, 0.004632, (True, 99, [9, 15, 35, ...   \n",
       "3  ((0.0103674, 0.005008, (True, 162, [8, 27, 66,...   \n",
       "4  ((0.0722637, 0.00564, (True, 237, [21, 17, 43,...   \n",
       "\n",
       "                                                   1  \\\n",
       "0  ((6.02e-05, 0.001568, (False, 8, [4, 2, 0, 0, ...   \n",
       "1  ((0.0007899, 0.00128, (True, 50, [23, 14, 0, 1...   \n",
       "2  ((0.0042484, 0.001784, (True, 99, [24, 2, 11, ...   \n",
       "3  ((0.0235138, 0.002256, (True, 162, [56, 3, 15,...   \n",
       "4  ((0.1059049, 0.002664, (True, 237, [12, 26, 69...   \n",
       "\n",
       "                                                   2  \\\n",
       "0  ((3.98e-05, 0.000416, (True, 15, [5, 4, 6])), ...   \n",
       "1  ((0.0011393, 0.001722, (True, 50, [7, 3, 15, 2...   \n",
       "2  ((0.0053253, 0.001752, (True, 99, [21, 8, 16, ...   \n",
       "3  ((0.0200448, 0.002288, (True, 162, [21, 5, 41,...   \n",
       "4  ((0.0163415, 0.002632, (True, 237, [19, 88, 47...   \n",
       "\n",
       "                                                   3  \\\n",
       "0  ((6.1e-05, 0.000808, (False, 10, [6, 0, 0, 1, ...   \n",
       "1  ((0.0005629, 0.00112, (True, 50, [7, 24, 19]))...   \n",
       "2  ((0.002175, 0.00172, (True, 99, [1, 32, 2, 22,...   \n",
       "3  ((0.074748, 0.00248, (True, 162, [24, 13, 12, ...   \n",
       "4  ((0.0172135, 0.002568, (True, 237, [11, 53, 66...   \n",
       "\n",
       "                                                   4  \n",
       "0  ((4.3e-05, 0.000808, (True, 15, [7, 5, 3])), (...  \n",
       "1  ((0.0005382, 0.001248, (True, 50, [2, 16, 8, 2...  \n",
       "2  ((0.0022216, 0.001688, (True, 99, [8, 39, 8, 1...  \n",
       "3  ((0.007106, 0.00216, (True, 162, [4, 78, 33, 6...  \n",
       "4  ((0.0365497, 0.002696, (True, 237, [23, 38, 72...  "
      ]
     },
     "execution_count": 3,
     "metadata": {},
     "output_type": "execute_result"
    }
   ],
   "source": [
    "# Running algorithms\n",
    "\n",
    "from functions.bf import subset_sum_BF\n",
    "from functions.dp import subset_sum_DP\n",
    "from functions.decorators import measurements\n",
    "        \n",
    "outputs = []\n",
    "    \n",
    "for dataset in datasets:\n",
    "    n_set = []\n",
    "    for single_set in dataset:\n",
    "        set = single_set[0]\n",
    "        target = single_set[1]\n",
    "        n = len(set)\n",
    "        bf = measurements(subset_sum_BF)(set=set, target=target, n=len(set))\n",
    "        dp = measurements(subset_sum_DP)(set=set, target=target)\n",
    "\n",
    "        output = ((bf[0], bf[1], bf[2]), (dp[0], dp[1], dp[2]))\n",
    "        n_set.append(output)\n",
    "    outputs.append(n_set)\n",
    "\n",
    "# Outputs of algorithms for every dataset\n",
    "        \n",
    "outputs_df = pd.DataFrame(outputs)\n",
    "outputs_df.head()"
   ]
  },
  {
   "cell_type": "code",
   "execution_count": 4,
   "id": "5cfb4455",
   "metadata": {},
   "outputs": [],
   "source": [
    "# Preparing charts\n",
    "\n",
    "%matplotlib inline\n",
    "\n",
    "import matplotlib.pyplot as plt\n",
    "\n",
    "colors = ['r', 'b', 'g', 'm', 'k']\n",
    "markers = ['o', 'v', '^', '<', '>']\n",
    "labels = [f'Sets no.{number}' for number in range(1,6)]"
   ]
  },
  {
   "cell_type": "code",
   "execution_count": 5,
   "id": "2fc19dfc",
   "metadata": {
    "scrolled": true
   },
   "outputs": [
    {
     "data": {
      "image/png": "[encoded data removed]",
      "text/plain": [
       "<Figure size 432x288 with 1 Axes>"
      ]
     },
     "metadata": {
      "needs_background": "light"
     },
     "output_type": "display_data"
    }
   ],
   "source": [
    "# Brute Force algorithm time complexity (different sets)\n",
    "\n",
    "bf_time = []\n",
    "\n",
    "for (index, colname) in enumerate(outputs_df):\n",
    "    y = []\n",
    "    for value in outputs_df[colname].values:\n",
    "        y.append(value[0][0])\n",
    "    bf_time.append(y)\n",
    "    \n",
    "zipped = zip(bf_time, colors, labels, markers)\n",
    "    \n",
    "for asset, color, label, marker in zipped:\n",
    "    plt.scatter(x=n_sizes, y=asset, label=label, color=color, marker=marker)\n",
    "    \n",
    "plt.title('BF execution time for different sets')\n",
    "plt.xlabel('Set size [n]')\n",
    "plt.ylabel('Time [s]')\n",
    "plt.legend(loc='upper left')\n",
    "\n",
    "plt.grid(True)\n",
    "plt.show()"
   ]
  },
  {
   "cell_type": "code",
   "execution_count": 6,
   "id": "48e9c9e4",
   "metadata": {},
   "outputs": [
    {
     "data": {
      "image/png": "[encoded data removed]",
      "text/plain": [
       "<Figure size 432x288 with 1 Axes>"
      ]
     },
     "metadata": {
      "needs_background": "light"
     },
     "output_type": "display_data"
    }
   ],
   "source": [
    "# Brute force algorithm memory complexity (different sets)\n",
    "\n",
    "bf_memory = []\n",
    "\n",
    "for (index, colname) in enumerate(outputs_df):\n",
    "    y = []\n",
    "    for value in outputs_df[colname].values:\n",
    "        y.append(value[0][1])\n",
    "    bf_memory.append(y)\n",
    "    \n",
    "zipped = zip(bf_memory, colors, labels, markers)\n",
    "    \n",
    "for asset, color, label, marker in zipped:\n",
    "    plt.scatter(x=n_sizes, y=asset, label=label, c=color, marker=marker)\n",
    "    \n",
    "plt.title('BF memory used for different sets')\n",
    "plt.xlabel('Set size [n]')\n",
    "plt.ylabel('Memory [MB]')\n",
    "plt.legend(loc='upper left')\n",
    "\n",
    "plt.grid(True)\n",
    "plt.show()"
   ]
  },
  {
   "cell_type": "code",
   "execution_count": 7,
   "id": "c1d00185",
   "metadata": {},
   "outputs": [
    {
     "data": {
      "image/png": "[encoded data removed]",
      "text/plain": [
       "<Figure size 432x288 with 1 Axes>"
      ]
     },
     "metadata": {
      "needs_background": "light"
     },
     "output_type": "display_data"
    }
   ],
   "source": [
    "# Dynamic programming algorithm time complexity (different sets)\n",
    "\n",
    "dp_time = []\n",
    "\n",
    "for (index, colname) in enumerate(outputs_df):\n",
    "    y = []\n",
    "    for value in outputs_df[colname].values:\n",
    "        y.append(value[1][0])\n",
    "    dp_time.append(y)\n",
    "    \n",
    "zipped = zip(dp_time, colors, labels, markers)\n",
    "    \n",
    "for asset, color, label, marker in zipped:\n",
    "    plt.scatter(x=n_sizes, y=asset, label=label, c=color, marker=marker)\n",
    "    \n",
    "plt.title('DP execution time for different sets')\n",
    "plt.xlabel('Set size [n]')\n",
    "plt.ylabel('Time [s]')\n",
    "plt.legend(loc='upper left')\n",
    "\n",
    "plt.grid(True)\n",
    "plt.show()"
   ]
  },
  {
   "cell_type": "code",
   "execution_count": 8,
   "id": "392196ed",
   "metadata": {},
   "outputs": [
    {
     "data": {
      "image/png": "[encoded data removed]",
      "text/plain": [
       "<Figure size 432x288 with 1 Axes>"
      ]
     },
     "metadata": {
      "needs_background": "light"
     },
     "output_type": "display_data"
    }
   ],
   "source": [
    "# Dynamic programming algorithm memory complexity (different sets)\n",
    "\n",
    "dp_memory = []\n",
    "\n",
    "for (index, colname) in enumerate(outputs_df):\n",
    "    y = []\n",
    "    for value in outputs_df[colname].values:\n",
    "        y.append(value[1][1])\n",
    "    dp_memory.append(y)\n",
    "    \n",
    "zipped = zip(dp_memory, colors, labels, markers)\n",
    "    \n",
    "for asset, color, label, marker in zipped:\n",
    "    plt.scatter(x=n_sizes, y=asset, label=label, c=color, marker=marker)\n",
    "    \n",
    "plt.title('DP memory used for different sets')\n",
    "plt.xlabel('Set size [n]')\n",
    "plt.ylabel('Memory [MB]')\n",
    "plt.legend(loc='upper left')\n",
    "\n",
    "plt.grid(True)\n",
    "plt.show()"
   ]
  },
  {
   "cell_type": "code",
   "execution_count": 9,
   "id": "e539f2ad",
   "metadata": {},
   "outputs": [
    {
     "data": {
      "image/png": "[encoded data removed]",
      "text/plain": [
       "<Figure size 432x288 with 1 Axes>"
      ]
     },
     "metadata": {
      "needs_background": "light"
     },
     "output_type": "display_data"
    }
   ],
   "source": [
    "# Time complexity comparison (BF and DP)\n",
    "\n",
    "bf_time = []\n",
    "dp_time = []\n",
    "\n",
    "for index, row in outputs_df.iterrows():\n",
    "    bf_time_set = [value[0][0] for value in row]\n",
    "    dp_time_set = [value[1][0] for value in row]\n",
    "    \n",
    "    bf_time.append(np.mean(bf_time_set))\n",
    "    dp_time.append(np.mean(dp_time_set))\n",
    "\n",
    "time = (bf_time, dp_time)\n",
    "\n",
    "labels = ('Brute force', 'Dynamic programming')\n",
    "\n",
    "zipped = zip(time, colors, labels, markers)\n",
    "    \n",
    "for asset, color, label, marker in zipped:\n",
    "    plt.scatter(x=n_sizes, y=asset, label=label, c=color, marker=marker)\n",
    "    plt.plot(n_sizes, asset, c=color, alpha=0.3)\n",
    "    \n",
    "plt.title('Average execution time for different size of input')\n",
    "plt.xlabel('Set size [n]')\n",
    "plt.ylabel('Time [s]')\n",
    "plt.legend(loc='upper left')\n",
    "\n",
    "plt.grid(True)\n",
    "plt.show()"
   ]
  },
  {
   "cell_type": "code",
   "execution_count": 10,
   "id": "8a4cea1f",
   "metadata": {},
   "outputs": [
    {
     "data": {
      "image/png": "[encoded data removed]",
      "text/plain": [
       "<Figure size 432x288 with 1 Axes>"
      ]
     },
     "metadata": {
      "needs_background": "light"
     },
     "output_type": "display_data"
    }
   ],
   "source": [
    "# Memory complexity comparison (BF and DP)\n",
    "\n",
    "bf_memory = []\n",
    "dp_memory = []\n",
    "\n",
    "for index, row in outputs_df.iterrows():\n",
    "    bf_memory_set = [value[0][1] for value in row]\n",
    "    dp_memory_set = [value[1][1] for value in row]\n",
    "    \n",
    "    bf_memory.append(np.mean(bf_memory_set))\n",
    "    dp_memory.append(np.mean(dp_memory_set))\n",
    "\n",
    "memory = (bf_memory, dp_memory)\n",
    "\n",
    "labels = ('Brute force', 'Dynamic programming')\n",
    "\n",
    "zipped = zip(memory, colors, labels, markers)\n",
    "    \n",
    "for asset, color, label, marker in zipped:\n",
    "    plt.scatter(n_sizes, asset, label=label, c=color, marker=marker)\n",
    "    plt.plot(n_sizes, asset, c=color, alpha=0.3)\n",
    "    \n",
    "plt.title('Average memory usage for different size of input')\n",
    "plt.xlabel('Set size [n]')\n",
    "plt.ylabel('Memory [MB]]')\n",
    "plt.legend(loc='upper left')\n",
    "\n",
    "plt.grid(True)\n",
    "plt.show()"
   ]
  },
  {
   "cell_type": "code",
   "execution_count": 11,
   "id": "9a21f38b",
   "metadata": {},
   "outputs": [
    {
     "data": {
      "text/plain": [
       "1.0"
      ]
     },
     "execution_count": 11,
     "metadata": {},
     "output_type": "execute_result"
    }
   ],
   "source": [
    "# Accuracy check\n",
    "\n",
    "from sklearn.metrics import accuracy_score\n",
    "\n",
    "bf_scores = []\n",
    "dp_scores = []\n",
    "\n",
    "for (index, colname) in enumerate(outputs_df):\n",
    "    for value in outputs_df[colname].values:\n",
    "        bf_scores.append(value[0][2][1])\n",
    "        dp_scores.append(value[1][2][1])\n",
    "\n",
    "accuracy_score(bf_scores, dp_scores)"
   ]
  }
 ],
 "metadata": {
  "kernelspec": {
   "display_name": "Python 3",
   "language": "python",
   "name": "python3"
  },
  "language_info": {
   "codemirror_mode": {
    "name": "ipython",
    "version": 3
   },
   "file_extension": ".py",
   "mimetype": "text/x-python",
   "name": "python",
   "nbconvert_exporter": "python",
   "pygments_lexer": "ipython3",
   "version": "3.9.2"
  }
 },
 "nbformat": 4,
 "nbformat_minor": 5
}

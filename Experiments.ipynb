{
 "cells": [
  {
   "cell_type": "markdown",
   "id": "62c75989",
   "metadata": {},
   "source": [
    "# Experiments\n",
    "Presentation of complexities of Brute Force and Dynamic Programming algorithms for different input size and different sets"
   ]
  },
  {
   "cell_type": "code",
   "execution_count": null,
   "id": "13a89eb8",
   "metadata": {},
   "outputs": [],
   "source": [
    "# Preparing datasets\n",
    "\n",
    "from functions.dataset_generation import generate_set"
   ]
  }
 ],
 "metadata": {
  "kernelspec": {
   "display_name": "Python 3",
   "language": "python",
   "name": "python3"
  },
  "language_info": {
   "codemirror_mode": {
    "name": "ipython",
    "version": 3
   },
   "file_extension": ".py",
   "mimetype": "text/x-python",
   "name": "python",
   "nbconvert_exporter": "python",
   "pygments_lexer": "ipython3",
   "version": "3.9.2"
  }
 },
 "nbformat": 4,
 "nbformat_minor": 5
}

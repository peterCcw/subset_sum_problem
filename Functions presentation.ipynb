{
 "cells": [
  {
   "cell_type": "markdown",
   "id": "d1dba74d",
   "metadata": {},
   "source": [
    "# Functions presentation"
   ]
  },
  {
   "cell_type": "markdown",
   "id": "39cb3db8",
   "metadata": {},
   "source": [
    "## Generators\n",
    "* Generating whole set from the file (loading set from the file)\n",
    "* Generating set from the file (based on size, target and optional boundary)\n",
    "* Generating set by using function parameters (size, target and optional boundary)"
   ]
  },
  {
   "cell_type": "code",
   "execution_count": 1,
   "id": "aeaab055",
   "metadata": {},
   "outputs": [
    {
     "name": "stdout",
     "output_type": "stream",
     "text": [
      "([1, 4, 56, 7, 12, 43, 4, 5, 63, 1], 12)\n",
      "([115, 65, 20, 170, 199, 169, 67, 177, 35, 156, 4, 68, 11, 136, 55, 100, 56, 20, 95, 96], 412)\n",
      "([2, 0, 0, 0], 5)\n"
     ]
    }
   ],
   "source": [
    "import functions.dataset_generation as generators\n",
    "\n",
    "# whole data set from the file, set generated based on the file and set generated based on function parameters\n",
    "set_read = generators.get_dataset_from_file('data_inputs/examples/input_data_set.csv')\n",
    "set_generated_from_file = generators.generate_set_from_file('data_inputs/examples/input_generate_data.csv')\n",
    "set_generated_from_function = generators.generate_set(4, 5)\n",
    "\n",
    "# returned tuple (set, target) for each generator\n",
    "\n",
    "print(set_read)\n",
    "print(set_generated_from_file)\n",
    "print(set_generated_from_function)"
   ]
  },
  {
   "cell_type": "markdown",
   "id": "d725e9fb",
   "metadata": {},
   "source": [
    "## Subset sum algorithms\n",
    "* Generating whole set from the file (loading set from the file)\n",
    "* Generating set from the file (based on size, target and optional boundary)\n",
    "* Generating set by using function parameters (size, target and optional boundary)"
   ]
  },
  {
   "cell_type": "markdown",
   "id": "eabb37b0",
   "metadata": {},
   "source": [
    "### Brute force algorithm"
   ]
  },
  {
   "cell_type": "code",
   "execution_count": 2,
   "id": "7a9154a6",
   "metadata": {},
   "outputs": [
    {
     "name": "stdout",
     "output_type": "stream",
     "text": [
      "Brute force algorithm:\n",
      "\tDoes subset exist: True\n",
      "\tSum: 12\n",
      "\tSubset: [7, 4, 1]\n"
     ]
    }
   ],
   "source": [
    "# Brute force algorithm\n",
    "from functions.bf import subset_sum_BF\n",
    "\n",
    "output = subset_sum_BF(set=set_read[0], target=set_read[1], n=len(set_read[0]))\n",
    "\n",
    "print('Brute force algorithm:')\n",
    "print(f'\\tDoes subset exist: {output[0]}')\n",
    "print(f'\\tSum: {output[1]}')\n",
    "print(f'\\tSubset: {output[2]}')"
   ]
  },
  {
   "cell_type": "markdown",
   "id": "974e2a68",
   "metadata": {},
   "source": [
    "### Dynamic programming algorithm"
   ]
  },
  {
   "cell_type": "code",
   "execution_count": 3,
   "id": "a87812be",
   "metadata": {
    "scrolled": true
   },
   "outputs": [
    {
     "name": "stdout",
     "output_type": "stream",
     "text": [
      "Dynamic programming algorithm:\n",
      "\tDoes subset exist: False\n",
      "\tSum: 2\n",
      "\tSubset: [2]\n",
      "\n",
      "Algorithm table:\n"
     ]
    },
    {
     "data": {
      "text/html": [
       "<div>\n",
       "<style scoped>\n",
       "    .dataframe tbody tr th:only-of-type {\n",
       "        vertical-align: middle;\n",
       "    }\n",
       "\n",
       "    .dataframe tbody tr th {\n",
       "        vertical-align: top;\n",
       "    }\n",
       "\n",
       "    .dataframe thead th {\n",
       "        text-align: right;\n",
       "    }\n",
       "</style>\n",
       "<table border=\"1\" class=\"dataframe\">\n",
       "  <thead>\n",
       "    <tr style=\"text-align: right;\">\n",
       "      <th></th>\n",
       "      <th>0</th>\n",
       "      <th>1</th>\n",
       "      <th>2</th>\n",
       "      <th>3</th>\n",
       "      <th>4</th>\n",
       "      <th>5</th>\n",
       "    </tr>\n",
       "  </thead>\n",
       "  <tbody>\n",
       "    <tr>\n",
       "      <th>0</th>\n",
       "      <td>0</td>\n",
       "      <td>0</td>\n",
       "      <td>0</td>\n",
       "      <td>0</td>\n",
       "      <td>0</td>\n",
       "      <td>0</td>\n",
       "    </tr>\n",
       "    <tr>\n",
       "      <th>2</th>\n",
       "      <td>0</td>\n",
       "      <td>0</td>\n",
       "      <td>2</td>\n",
       "      <td>2</td>\n",
       "      <td>2</td>\n",
       "      <td>2</td>\n",
       "    </tr>\n",
       "    <tr>\n",
       "      <th>0</th>\n",
       "      <td>0</td>\n",
       "      <td>0</td>\n",
       "      <td>2</td>\n",
       "      <td>2</td>\n",
       "      <td>2</td>\n",
       "      <td>2</td>\n",
       "    </tr>\n",
       "    <tr>\n",
       "      <th>0</th>\n",
       "      <td>0</td>\n",
       "      <td>0</td>\n",
       "      <td>2</td>\n",
       "      <td>2</td>\n",
       "      <td>2</td>\n",
       "      <td>2</td>\n",
       "    </tr>\n",
       "    <tr>\n",
       "      <th>0</th>\n",
       "      <td>0</td>\n",
       "      <td>0</td>\n",
       "      <td>2</td>\n",
       "      <td>2</td>\n",
       "      <td>2</td>\n",
       "      <td>2</td>\n",
       "    </tr>\n",
       "  </tbody>\n",
       "</table>\n",
       "</div>"
      ],
      "text/plain": [
       "   0  1  2  3  4  5\n",
       "0  0  0  0  0  0  0\n",
       "2  0  0  2  2  2  2\n",
       "0  0  0  2  2  2  2\n",
       "0  0  0  2  2  2  2\n",
       "0  0  0  2  2  2  2"
      ]
     },
     "execution_count": 3,
     "metadata": {},
     "output_type": "execute_result"
    }
   ],
   "source": [
    "# Dynamic programming algorithm\n",
    "from functions.dp import subset_sum_DP\n",
    "import pandas as pd\n",
    "import copy\n",
    "\n",
    "output = subset_sum_DP(set=set_generated_from_function[0], target=set_generated_from_function[1])\n",
    "\n",
    "target_names = copy.copy(set_generated_from_function[0])\n",
    "target_names.insert(0,0)\n",
    "table_df = pd.DataFrame(output[3], index=target_names)\n",
    "\n",
    "print('Dynamic programming algorithm:')\n",
    "print(f'\\tDoes subset exist: {output[0]}')\n",
    "print(f'\\tSum: {output[1]}')\n",
    "print(f'\\tSubset: {output[2]}')\n",
    "print()\n",
    "print('Algorithm table:')\n",
    "table_df"
   ]
  },
  {
   "cell_type": "code",
   "execution_count": 4,
   "id": "d4fa6512",
   "metadata": {},
   "outputs": [
    {
     "name": "stdout",
     "output_type": "stream",
     "text": [
      "Time and memory consumption for dynamic programming algorithm:\n",
      "\tTime: 0.0001096 s\n",
      "\tMemory used: 0.000784 MB\n",
      "\tDoes subset exist: False\n",
      "\tSum: 2\n",
      "\tSubset: [2]\n"
     ]
    }
   ],
   "source": [
    "# Measuring time and memory consumption\n",
    "from functions.decorators import measurements\n",
    "\n",
    "output = measurements(subset_sum_DP)(set_generated_from_function[0], target=set_generated_from_function[1])\n",
    "\n",
    "print('Time and memory consumption for dynamic programming algorithm:')\n",
    "print(f'\\tTime: {output[0]} s')\n",
    "print(f'\\tMemory used: {output[1]} MB')\n",
    "print(f'\\tDoes subset exist: {output[2][0]}')\n",
    "print(f'\\tSum: {output[2][1]}')\n",
    "print(f'\\tSubset: {output[2][2]}')"
   ]
  }
 ],
 "metadata": {
  "kernelspec": {
   "display_name": "Python 3",
   "language": "python",
   "name": "python3"
  },
  "language_info": {
   "codemirror_mode": {
    "name": "ipython",
    "version": 3
   },
   "file_extension": ".py",
   "mimetype": "text/x-python",
   "name": "python",
   "nbconvert_exporter": "python",
   "pygments_lexer": "ipython3",
   "version": "3.9.2"
  }
 },
 "nbformat": 4,
 "nbformat_minor": 5
}

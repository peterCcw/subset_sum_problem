{
 "cells": [
  {
   "cell_type": "code",
   "execution_count": 1,
   "id": "2de81d40",
   "metadata": {},
   "outputs": [
    {
     "name": "stdout",
     "output_type": "stream",
     "text": [
      "Set: [1, 4, 56, 7, 12, 43, 4, 5, 63, 1]\n",
      "Target: 12\n"
     ]
    }
   ],
   "source": [
    "from functions.dataset_generation import get_dataset_from_file\n",
    "    \n",
    "set, target = get_dataset_from_file('data_inputs/input_data_set.txt')\n",
    "\n",
    "print(f\"Set: {set}\")\n",
    "print(f\"Target: {target}\")"
   ]
  },
  {
   "cell_type": "code",
   "execution_count": null,
   "id": "27bd9a5c",
   "metadata": {},
   "outputs": [],
   "source": [
    "from decorators import measurements\n",
    "from bf import subset_sum_BF\n",
    "from dp import subset_sum_DP\n",
    "\n",
    "bf = measurements(subset_sum_BF)(set=set, target=target, n=len(set))\n",
    "dp = measurements(subset_sum_DP)(set=set, target=target)\n",
    "\n",
    "print(f'Brute force: time- {bf[0]} s, memory- {bf[1]} MB, result: {bf[2][0]}, {bf[2][1]} {bf[2][2]}')\n",
    "print(f'Dynamic programming: time- {dp[0]} s, memory- {dp[1]} MB, result: {dp[2][0]}, {bf[2][1]} {bf[2][2]}')"
   ]
  },
  {
   "cell_type": "code",
   "execution_count": null,
   "id": "4009c0bd",
   "metadata": {},
   "outputs": [],
   "source": [
    "from dataset_generation import generate_set_from_file\n",
    "\n",
    "print(generate_set_from_file('input_generate_data.txt'))"
   ]
  },
  {
   "cell_type": "code",
   "execution_count": null,
   "id": "a20b24fe",
   "metadata": {
    "scrolled": false
   },
   "outputs": [],
   "source": [
    "import pandas as pd\n",
    "import copy\n",
    "\n",
    "from dp import subset_sum_DP\n",
    "\n",
    "set = [5,23,5,5,52,67,72,6,7,86,3,1,4,2,56,67,1,4,25,3,56,2,6,6,25,4,24,32,4,14]\n",
    "target = 412\n",
    "target_names = copy.copy(set)\n",
    "target_names.insert(0,0)\n",
    "\n",
    "result = subset_sum_DP(set=set, target=target)\n",
    "print(result)\n",
    "\n",
    "df = pd.DataFrame(result[3], index=target_names)\n",
    "df\n",
    "\n",
    "\n"
   ]
  },
  {
   "cell_type": "code",
   "execution_count": null,
   "id": "9fe9673a",
   "metadata": {},
   "outputs": [],
   "source": [
    "import random\n",
    "import time\n",
    "\n",
    "start = time.clock()\n",
    "int = random.randint(0, 100)\n",
    "end = time.clock()\n",
    "total = end - start\n",
    "print(\"{0:02f}s\".format(total))"
   ]
  },
  {
   "cell_type": "code",
   "execution_count": null,
   "id": "6b8414e8",
   "metadata": {},
   "outputs": [],
   "source": [
    "import os\n",
    "import tracemalloc\n",
    "\n",
    "\n",
    "\n",
    "tracemalloc.start()\n",
    "\n",
    "tab = range(100000000000)\n",
    "tab2 = range(100000000000)\n",
    "#tab3 = range(100000000000)\n",
    "#tab4 = range(100000000000)\n",
    "tab5 = range(100000000000)\n",
    "\n",
    "current, peak = tracemalloc.get_traced_memory()\n",
    "print(f\"Current memory usage is {current / 10**6}MB; Peak was {peak / 10**6}MB\")\n",
    "tracemalloc.stop()"
   ]
  }
 ],
 "metadata": {
  "kernelspec": {
   "display_name": "Python 3",
   "language": "python",
   "name": "python3"
  },
  "language_info": {
   "codemirror_mode": {
    "name": "ipython",
    "version": 3
   },
   "file_extension": ".py",
   "mimetype": "text/x-python",
   "name": "python",
   "nbconvert_exporter": "python",
   "pygments_lexer": "ipython3",
   "version": "3.9.2"
  }
 },
 "nbformat": 4,
 "nbformat_minor": 5
}

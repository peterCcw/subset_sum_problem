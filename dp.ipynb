{
 "cells": [
  {
   "cell_type": "code",
   "execution_count": null,
   "id": "a20b24fe",
   "metadata": {
    "scrolled": false
   },
   "outputs": [],
   "source": [
    "import pandas as pd\n",
    "import copy\n",
    "\n",
    "from dp import subset_sum_DP\n",
    "\n",
    "set = [5,23,5,5,52,67,72,6,7,86,3,1,4,2,56,67,1,4,25,3,56,2,6,6,25,4,24,32,4,14]\n",
    "target = 412\n",
    "target_names = copy.copy(set)\n",
    "target_names.insert(0,0)\n",
    "\n",
    "result = subset_sum_DP(set=set, target=target)\n",
    "print(result)\n",
    "\n",
    "df = pd.DataFrame(result[3], index=target_names)\n",
    "df\n",
    "\n",
    "\n"
   ]
  },
  {
   "cell_type": "code",
   "execution_count": null,
   "id": "9fe9673a",
   "metadata": {},
   "outputs": [],
   "source": [
    "import random\n",
    "import time\n",
    "\n",
    "start = time.clock()\n",
    "int = random.randint(0, 100)\n",
    "end = time.clock()\n",
    "total = end - start\n",
    "print(\"{0:02f}s\".format(total))"
   ]
  },
  {
   "cell_type": "code",
   "execution_count": 29,
   "id": "6b8414e8",
   "metadata": {},
   "outputs": [
    {
     "name": "stdout",
     "output_type": "stream",
     "text": [
      "Current memory usage is 0.001185MB; Peak was 0.012031MB\n"
     ]
    }
   ],
   "source": [
    "import os\n",
    "import psutil\n",
    "import tracemalloc\n",
    "\n",
    "\n",
    "\n",
    "tracemalloc.start()\n",
    "\n",
    "tab = range(100000000000)\n",
    "tab2 = range(100000000000)\n",
    "#tab3 = range(100000000000)\n",
    "#tab4 = range(100000000000)\n",
    "tab5 = range(100000000000)\n",
    "\n",
    "current, peak = tracemalloc.get_traced_memory()\n",
    "print(f\"Current memory usage is {current / 10**6}MB; Peak was {peak / 10**6}MB\")\n",
    "tracemalloc.stop()"
   ]
  }
 ],
 "metadata": {
  "kernelspec": {
   "display_name": "Python 3",
   "language": "python",
   "name": "python3"
  },
  "language_info": {
   "codemirror_mode": {
    "name": "ipython",
    "version": 3
   },
   "file_extension": ".py",
   "mimetype": "text/x-python",
   "name": "python",
   "nbconvert_exporter": "python",
   "pygments_lexer": "ipython3",
   "version": "3.9.2"
  }
 },
 "nbformat": 4,
 "nbformat_minor": 5
}
